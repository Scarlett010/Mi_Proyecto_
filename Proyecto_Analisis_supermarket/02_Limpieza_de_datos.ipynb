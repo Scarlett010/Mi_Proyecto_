{
 "cells": [
  {
   "cell_type": "code",
   "execution_count": null,
   "id": "8736be38-e93c-4028-b7b0-e3295db6b0a8",
   "metadata": {},
   "outputs": [],
   "source": [
    "# Instalar seaborn y matplotlib\n",
    "%pip install seaborn matplotlib\n",
    "\n",
    "import pandas as pd\n",
    "import seaborn as sns\n",
    "import matplotlib.pyplot as plt\n",
    "import os\n",
    "\n",
    "# Ruta al archivo CSV\n",
    "file_path = r'C:\\Users\\Scarlett\\Documents\\Mi_Proyecto_\\Proyecto_Analisis_supermarket\\data\\supermarket_sales - Sheet1.csv'\n",
    "\n",
    "# Verificar que el archivo CSV existe\n",
    "if os.path.exists(file_path):\n",
    "    # Cargar el dataset\n",
    "    data = pd.read_csv(file_path)\n",
    "    print(\"Dataset cargado correctamente.\")\n",
    "    \n",
    "    # Convertir la columna 'Date' al formato de fecha\n",
    "    data['Date'] = pd.to_datetime(data['Date'])\n",
    "    \n",
    "    # Crear nuevas columnas 'Month' y 'Day'\n",
    "    data['Month'] = data['Date'].dt.month\n",
    "    data['Day'] = data['Date'].dt.day_name()\n",
    "    \n",
    "    # Revisar outliers\n",
    "    fig, axs = plt.subplots(3, 2, figsize=(15, 15))\n",
    "    sns.boxplot(data['Unit price'], ax=axs[0, 0]).set_title('Unit price')\n",
    "    sns.boxplot(data['Quantity'], ax=axs[0, 1]).set_title('Quantity')\n",
    "    sns.boxplot(data['Total'], ax=axs[1, 0]).set_title('Total')\n",
    "    sns.boxplot(data['cogs'], ax=axs[1, 1]).set_title('cogs')\n",
    "    sns.boxplot(data['gross income'], ax=axs[2, 0]).set_title('gross income')\n",
    "    sns.boxplot(data['Rating'], ax=axs[2, 1]).set_title('Rating')\n",
    "    plt.tight_layout()\n",
    "    plt.show()\n",
    "    \n",
    "    # Justificación de limpieza\n",
    "    print(\"El dataset se considera limpio y listo para análisis posteriores.\")\n",
    "else:\n",
    "    print(f\"Archivo no encontrado: {file_path}\")\n"
   ]
  },
  {
   "cell_type": "code",
   "execution_count": null,
   "id": "ffec1bbd-c5be-41b5-8457-bae5f3ff680e",
   "metadata": {},
   "outputs": [],
   "source": []
  }
 ],
 "metadata": {
  "kernelspec": {
   "display_name": "Mi_Proyecto_",
   "language": "python",
   "name": "mi_proyecto_"
  },
  "language_info": {
   "codemirror_mode": {
    "name": "ipython",
    "version": 3
   },
   "file_extension": ".py",
   "mimetype": "text/x-python",
   "name": "python",
   "nbconvert_exporter": "python",
   "pygments_lexer": "ipython3",
   "version": "3.11.9"
  }
 },
 "nbformat": 4,
 "nbformat_minor": 5
}
