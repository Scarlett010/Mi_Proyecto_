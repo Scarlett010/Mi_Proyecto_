{
 "cells": [
  {
   "cell_type": "code",
   "execution_count": null,
   "id": "253ee689-4350-40aa-b74a-dd628b729b9b",
   "metadata": {},
   "outputs": [],
   "source": [
    "#Instalar seaborn y matplotlib\n",
    "%pip install seaborn matplotlib\n",
    "\n",
    "import pandas as pd\n",
    "import seaborn as sns\n",
    "import matplotlib.pyplot as plt\n",
    "\n",
    "# Ruta al archivo CSV\n",
    "file_path = r'C:\\Users\\Scarlett\\Documents\\Mi_Proyecto_\\Proyecto_Analisis_supermarket\\data\\supermarket_sales - Sheet1.csv'\n",
    "\n",
    "# Verificar que el archivo CSV existe\n",
    "if os.path.exists(file_path):\n",
    "    # Cargar el dataset\n",
    "    data = pd.read_csv(file_path)\n",
    "    print(\"Dataset cargado correctamente.\")\n",
    "    \n",
    "    # Convertir la columna 'Date' al formato de fecha\n",
    "    data['Date'] = pd.to_datetime(data['Date'])\n",
    "    \n",
    "    # Crear nuevas columnas 'Month' y 'Day'\n",
    "    data['Month'] = data['Date'].dt.month\n",
    "    data['Day'] = data['Date'].dt.day_name()\n",
    "    \n",
    "    # Crear columna 'Total sin impuestos'\n",
    "    data['Total sin impuestos'] = data['Total'] - data['Tax 5%']\n",
    "    \n",
    "    # Crear columna 'Porcentaje de ingresos brutos'\n",
    "    data['Porcentaje de ingresos brutos'] = (data['gross income'] / data['Total']) * 100\n",
    "    \n",
    "    # Mostrar las primeras filas del dataset con las nuevas columnas\n",
    "    display(data.head())\n",
    "else:\n",
    "    print(f\"Archivo no encontrado: {file_path}\")\n"
   ]
  },
  {
   "cell_type": "code",
   "execution_count": null,
   "id": "9404445b-fe7b-465b-b31c-81c6ab5e2809",
   "metadata": {},
   "outputs": [],
   "source": []
  }
 ],
 "metadata": {
  "kernelspec": {
   "display_name": "Mi_Proyecto_",
   "language": "python",
   "name": "mi_proyecto_"
  },
  "language_info": {
   "codemirror_mode": {
    "name": "ipython",
    "version": 3
   },
   "file_extension": ".py",
   "mimetype": "text/x-python",
   "name": "python",
   "nbconvert_exporter": "python",
   "pygments_lexer": "ipython3",
   "version": "3.11.9"
  }
 },
 "nbformat": 4,
 "nbformat_minor": 5
}
